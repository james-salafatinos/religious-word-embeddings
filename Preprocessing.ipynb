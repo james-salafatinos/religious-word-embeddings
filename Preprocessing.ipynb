{
 "cells": [
  {
   "cell_type": "code",
   "execution_count": 15,
   "metadata": {},
   "outputs": [],
   "source": [
    "\n",
    "from tensorflow.keras.callbacks import LambdaCallback, ModelCheckpoint, EarlyStopping\n",
    "from tensorflow.keras.models import Sequential\n",
    "from tensorflow.keras.layers import Dense, Dropout, Activation, LSTM, Bidirectional, Input, Embedding, GRU, Flatten\n",
    "from tensorflow.keras import Model\n",
    "\n",
    "import time\n",
    "import numpy as np\n",
    "import sys\n",
    "import io\n",
    "import os\n",
    "import codecs\n",
    "import random\n",
    "import json\n",
    "import re\n",
    "\n",
    "from sklearn.model_selection import train_test_split\n",
    "from sklearn.metrics import confusion_matrix\n",
    "\n",
    "import pandas as pd\n",
    "from tensorflow.keras.models import load_model\n",
    "import matplotlib.pyplot as plt\n",
    "import seaborn as sns"
   ]
  },
  {
   "cell_type": "markdown",
   "metadata": {},
   "source": [
    "# URLs"
   ]
  },
  {
   "cell_type": "code",
   "execution_count": 4,
   "metadata": {
    "collapsed": true
   },
   "outputs": [],
   "source": [
    "sutras_fp = str(os.getcwd()) + r'\\datasets\\Sutras\\Sutras_full.txt'\n",
    "vedas_fp = str(os.getcwd()) + r'\\datasets\\Vedas\\vedas.txt'\n",
    "quran_fp = str(os.getcwd()) + r'\\datasets\\Quran\\quran.txt'\n",
    "tanakh_fp = str(os.getcwd()) + r'\\datasets\\Tanakh\\Pentateuch_full.txt'\n",
    "bible_fp = str(os.getcwd()) + r'\\datasets\\Bible\\bible.txt'\n",
    "#religious_texts_fp = str(os.getcwd()) + r'\\datasets\\religious_texts'"
   ]
  },
  {
   "cell_type": "code",
   "execution_count": 5,
   "metadata": {
    "collapsed": true
   },
   "outputs": [],
   "source": [
    "\n",
    "SEQUENCE_LEN = 10\n",
    "MIN_WORD_FREQUENCY = 5\n",
    "STEP = 1\n",
    "BATCH_SIZE = 512\n"
   ]
  },
  {
   "cell_type": "code",
   "execution_count": 6,
   "metadata": {
    "collapsed": true
   },
   "outputs": [],
   "source": [
    "class TextData():\n",
    "    def __init__(self, corpus_file):\n",
    "        self.text = None\n",
    "        self.tokens = None\n",
    "        self.token_freq = None\n",
    "        self.clean_text = None\n",
    "        \"\"\"Takes a corpus filename, opens a utf-8 file, \"\"\"\n",
    "\n",
    "        with io.open(corpus_file, encoding='utf-8') as f:\n",
    "            self.text = f.read().lower().replace('\\n', ' \\n ')\n",
    "            self.text = self.text.replace('\\t', '')\n",
    "\n",
    "            print('Corpus length in characters:', len(self.text))     \n",
    "        self.corpus_len = len(self.text)\n",
    "        print('Loaded corpus...')\n",
    "\n",
    "    \n",
    "    def get_token_freq(self):\n",
    "        # Calculate word frequency\n",
    "        self.token_freq = {}\n",
    "        for token in self.tokens:\n",
    "            self.token_freq[token] =  self.token_freq.get(token, 0) + 1\n",
    "        return self.token_freq\n",
    "    \n",
    "    def get_char_freq(self):\n",
    "        # Calculate word frequency\n",
    "        self.char_freq = {}\n",
    "        for char in self.text:\n",
    "            self.char_freq[char] =  self.char_freq.get(char, 0) + 1\n",
    "        return self.char_freq\n",
    "\n",
    "    \n",
    "    def tokenize(self):\n",
    "        self.tokens = [w for w in self.text.split(' ') if w.strip() != '' or w == '\\n']\n",
    "        print('Corpus length in words:', len(self.tokens))\n",
    "        return self.tokens\n",
    "    \n",
    "\n",
    "\n",
    "    "
   ]
  },
  {
   "cell_type": "code",
   "execution_count": 7,
   "metadata": {
    "collapsed": true
   },
   "outputs": [],
   "source": [
    "def drop_chars(txt):\n",
    "    #return re.sub('[^A-Za-z0-9.,?!\" -–]+', '', txt)\n",
    "    return re.sub('[^A-Za-z0-9 ]+', '', txt)"
   ]
  },
  {
   "cell_type": "code",
   "execution_count": 8,
   "metadata": {
    "collapsed": true
   },
   "outputs": [],
   "source": [
    "def get_ignorable_words(word_freq):\n",
    "    ignored_words = set()\n",
    "    for k, v in word_freq.items():\n",
    "        if word_freq[k] < MIN_WORD_FREQUENCY:\n",
    "            ignored_words.add(k)\n",
    "    return ignored_words\n",
    "\n",
    "\n",
    "def get_words(text_in_words, ignored_words):\n",
    "    words = set(text_in_words)\n",
    "    print('Unique words before ignoring:', len(words))\n",
    "    print('Ignoring words with frequency <', MIN_WORD_FREQUENCY)\n",
    "    words = sorted(set(words) - ignored_words)\n",
    "    print('Unique words after ignoring:', len(words))\n",
    "    return words"
   ]
  },
  {
   "cell_type": "code",
   "execution_count": 9,
   "metadata": {
    "collapsed": true
   },
   "outputs": [],
   "source": [
    "\n",
    "def get_translate_dicts(words):\n",
    "    word_indices = dict((c, i) for i, c in enumerate(words))\n",
    "    indices_word = dict((i, c) for i, c in enumerate(words))\n",
    "    return word_indices, indices_word\n",
    "\n",
    "\n",
    "def get_training_data(text_in_words, ignored_words):\n",
    "    # cut the text in semi-redundant sequences of SEQUENCE_LEN words\n",
    "    sentences = []\n",
    "    next_words = []\n",
    "    ignored = 0\n",
    "    for i in range(0, len(text_in_words) - SEQUENCE_LEN, STEP):\n",
    "        # Only add the sequences where no word is in ignored_words\n",
    "        if len(set(text_in_words[i: i+SEQUENCE_LEN+1]).intersection(ignored_words)) == 0:\n",
    "            sentences.append(text_in_words[i: i + SEQUENCE_LEN])\n",
    "            next_words.append(text_in_words[i + SEQUENCE_LEN])\n",
    "        else:\n",
    "            ignored = ignored + 1\n",
    "    print('Ignored sequences:', ignored)\n",
    "    print('Remaining sequences:', len(sentences))\n",
    "    return sentences, next_words\n",
    "\n",
    "\n",
    "def get_training_data_one_list(text_in_words, ignored_words):\n",
    "    # cut the text in semi-redundant sequences of SEQUENCE_LEN words\n",
    "    text = []\n",
    "    ignored = 0\n",
    "    for i in text_in_words:\n",
    "        # Only add the sequences where no word is in ignored_words\n",
    "        if i not in ignored_words:\n",
    "            text.append(i)\n",
    "        else:\n",
    "            ignored = ignored + 1\n",
    "    print('Ignored sequences:', ignored)\n",
    "    print('Remaining sequences:', len(text))\n",
    "    return text"
   ]
  },
  {
   "cell_type": "code",
   "execution_count": 10,
   "metadata": {
    "collapsed": true
   },
   "outputs": [],
   "source": [
    "def log_vocabulary(words_file_path, words_set):\n",
    "    \"\"\"Takes a filepath and a list, and creates a text file to log that word list\"\"\"\n",
    "    words_file = codecs.open(words_file_path, 'w', encoding='utf8')\n",
    "    for w in words_set:\n",
    "        if w != \"\\n\":\n",
    "            words_file.write(w+\"\\n\")\n",
    "        else:\n",
    "            words_file.write(w)\n",
    "    words_file.close()"
   ]
  },
  {
   "cell_type": "code",
   "execution_count": 11,
   "metadata": {},
   "outputs": [
    {
     "name": "stdout",
     "output_type": "stream",
     "text": [
      "Corpus length in characters: 7915214\n",
      "Loaded corpus...\n",
      "Corpus length in characters: 3808286\n",
      "Loaded corpus...\n",
      "Corpus length in characters: 4552748\n",
      "Loaded corpus...\n",
      "Corpus length in characters: 869286\n",
      "Loaded corpus...\n",
      "Corpus length in characters: 764579\n",
      "Loaded corpus...\n"
     ]
    }
   ],
   "source": [
    "sutras = TextData(sutras_fp)\n",
    "vedas = TextData(vedas_fp)\n",
    "bible = TextData(bible_fp)\n",
    "tanakh = TextData(tanakh_fp)\n",
    "quran = TextData(quran_fp)"
   ]
  },
  {
   "cell_type": "markdown",
   "metadata": {},
   "source": [
    "# Sutras\n",
    "\n",
    "1. Set up, preprocess, clean, and plot initial EDA"
   ]
  },
  {
   "cell_type": "code",
   "execution_count": 16,
   "metadata": {},
   "outputs": [
    {
     "name": "stdout",
     "output_type": "stream",
     "text": [
      "Corpus length in words: 1318748\n",
      "Unique words before ignoring: 28369\n",
      "Ignoring words with frequency < 5\n",
      "Unique words after ignoring: 10205\n",
      "Encoder Table:\n",
      " [('1', 0), ('10', 1), ('100', 2), ('1000', 3), ('102', 4), ('103', 5), ('104', 6), ('106', 7), ('107', 8), ('108', 9)] \n",
      "Decoder Table:\n",
      " [(0, '1'), (1, '10'), (2, '100'), (3, '1000'), (4, '102'), (5, '103'), (6, '104'), (7, '106'), (8, '107'), (9, '108')]\n"
     ]
    }
   ],
   "source": [
    "\n",
    "## First drop and replace some bad characters to make the analysis simpler and more effective\n",
    "sutras.text = drop_chars(sutras.text)\n",
    "#Get and count the frequency of each character after cleaning\n",
    "sutras_char_freq = sutras.get_char_freq()\n",
    "\n",
    "#Basically split into words (words are tokens here)\n",
    "sutras_tokens = sutras.tokenize() # tokens\n",
    "#Get and count the freq of each word/token PRE IGNORED WORDS\n",
    "sutras_freq = sutras.get_token_freq() # freq\n",
    "\n",
    "#Get ignorable words less than the global var min word frequency\n",
    "sutras_ignored_words = get_ignorable_words(sutras_freq) #ignored words less than frequency\n",
    "sutras_kept_words = get_words(sutras_tokens, sutras_ignored_words) #keep words\n",
    "\n",
    "\n",
    "#Get translation tables for kept tokens\n",
    "sutras_encoder, sutras_decoder = get_translate_dicts(sutras_kept_words) #get translation tables\n",
    "print(\"Encoder Table:\\n\",list(sutras_encoder.items())[:10],\"\\nDecoder Table:\\n\", list(sutras_decoder.items())[:10])\n",
    "\n",
    "#Get the frequency of each word after pruning\n",
    "sutras_kept_freq = dict(zip(sutras_kept_words,[sutras_freq[value] for value in sutras_kept_words]))"
   ]
  },
  {
   "cell_type": "code",
   "execution_count": 17,
   "metadata": {},
   "outputs": [
    {
     "data": {
      "image/png": "[encoded data removed]",
      "text/plain": [
       "<Figure size 1440x576 with 2 Axes>"
      ]
     },
     "metadata": {
      "needs_background": "light"
     },
     "output_type": "display_data"
    }
   ],
   "source": [
    "def plot_log_char_freq(char_freq, word_freq):\n",
    "    df1 = pd.DataFrame(char_freq, index = [0])\n",
    "    df2 = pd.DataFrame(word_freq, index = [0])\n",
    "    fig, (ax1,ax2) = plt.subplots(nrows = 2, ncols = 1, figsize = (20,8));\n",
    "   \n",
    "    ax1.bar(range(len(df1.columns)),np.log(df1.iloc[0].values), width = 2);\n",
    "    ax1.set_title('Character Frequency in the corpus');\n",
    "    ax1.set_ylabel('Log Scale of Frequency');\n",
    "    ax1.set_xlabel('Character');\n",
    "\n",
    "    ax2.bar(range(len(df2.columns)),np.log(df2.iloc[0].values), width = 2);\n",
    "    ax2.set_title('Word Frequency in the corpus');\n",
    "    ax2.set_ylabel('Log Scale of Frequency');\n",
    "    ax2.set_xlabel('Word');\n",
    "    \n"
   ]
  },
  {
   "cell_type": "code",
   "execution_count": null,
   "metadata": {
    "collapsed": true
   },
   "outputs": [],
   "source": [
    "plot_log_char_freq(sutras_char_freq, sutras_kept_freq)\n"
   ]
  },
  {
   "cell_type": "markdown",
   "metadata": {},
   "source": [
    "# Vedas"
   ]
  },
  {
   "cell_type": "code",
   "execution_count": 18,
   "metadata": {},
   "outputs": [
    {
     "name": "stdout",
     "output_type": "stream",
     "text": [
      "Corpus length in words: 629129\n",
      "Unique words before ignoring: 20324\n",
      "Ignoring words with frequency < 5\n",
      "Unique words after ignoring: 6016\n",
      "Encoder Table:\n",
      " [('0', 0), ('1', 1), ('10', 2), ('1009', 3), ('1010', 4), ('1021', 5), ('1022', 6), ('1023', 7), ('1035', 8), ('1036', 9)] \n",
      "Decoder Table:\n",
      " [(0, '0'), (1, '1'), (2, '10'), (3, '1009'), (4, '1010'), (5, '1021'), (6, '1022'), (7, '1023'), (8, '1035'), (9, '1036')]\n"
     ]
    }
   ],
   "source": [
    "\n",
    "## First drop and replace some bad characters to make the analysis simpler and more effective\n",
    "vedas.text = drop_chars(vedas.text)\n",
    "#Get and count the frequency of each character after cleaning\n",
    "vedas_char_freq = vedas.get_char_freq()\n",
    "\n",
    "#Basically split into words (words are tokens here)\n",
    "vedas_tokens = vedas.tokenize() # tokens\n",
    "#Get and count the freq of each word/token PRE IGNORED WORDS\n",
    "vedas_freq = vedas.get_token_freq() # freq\n",
    "\n",
    "#Get ignorable words less than the global var min word frequency\n",
    "vedas_ignored_words = get_ignorable_words(vedas_freq) #ignored words less than frequency\n",
    "vedas_kept_words = get_words(vedas_tokens, vedas_ignored_words) #keep words\n",
    "\n",
    "\n",
    "#Get translation tables for kept tokens\n",
    "vedas_encoder, vedas_decoder = get_translate_dicts(vedas_kept_words) #get translation tables\n",
    "print(\"Encoder Table:\\n\",list(vedas_encoder.items())[:10],\"\\nDecoder Table:\\n\", list(vedas_decoder.items())[:10])\n",
    "\n",
    "#Get the frequency of each word after pruning\n",
    "vedas_kept_freq = dict(zip(vedas_kept_words,[vedas_freq[value] for value in vedas_kept_words]))"
   ]
  },
  {
   "cell_type": "code",
   "execution_count": 19,
   "metadata": {},
   "outputs": [
    {
     "data": {
      "image/png": "[encoded data removed]",
      "text/plain": [
       "<Figure size 1440x576 with 2 Axes>"
      ]
     },
     "metadata": {
      "needs_background": "light"
     },
     "output_type": "display_data"
    }
   ],
   "source": [
    "plot_log_char_freq(vedas_char_freq, vedas_kept_freq)\n"
   ]
  },
  {
   "cell_type": "markdown",
   "metadata": {},
   "source": [
    "# Bible"
   ]
  },
  {
   "cell_type": "code",
   "execution_count": 20,
   "metadata": {},
   "outputs": [
    {
     "name": "stdout",
     "output_type": "stream",
     "text": [
      "Corpus length in words: 824172\n",
      "Unique words before ignoring: 16948\n",
      "Ignoring words with frequency < 5\n",
      "Unique words after ignoring: 6829\n",
      "Encoder Table:\n",
      " [('101', 0), ('1010', 1), ('1011', 2), ('1012', 3), ('1013', 4), ('1014', 5), ('1015', 6), ('1016', 7), ('1017', 8), ('1018', 9)] \n",
      "Decoder Table:\n",
      " [(0, '101'), (1, '1010'), (2, '1011'), (3, '1012'), (4, '1013'), (5, '1014'), (6, '1015'), (7, '1016'), (8, '1017'), (9, '1018')]\n"
     ]
    }
   ],
   "source": [
    "\n",
    "## First drop and replace some bad characters to make the analysis simpler and more effective\n",
    "bible.text = drop_chars(bible.text)\n",
    "#Get and count the frequency of each character after cleaning\n",
    "bible_char_freq = bible.get_char_freq()\n",
    "\n",
    "#Basically split into words (words are tokens here)\n",
    "bible_tokens = bible.tokenize() # tokens\n",
    "#Get and count the freq of each word/token PRE IGNORED WORDS\n",
    "bible_freq = bible.get_token_freq() # freq\n",
    "\n",
    "#Get ignorable words less than the global var min word frequency\n",
    "bible_ignored_words = get_ignorable_words(bible_freq) #ignored words less than frequency\n",
    "bible_kept_words = get_words(bible_tokens, bible_ignored_words) #keep words\n",
    "\n",
    "\n",
    "#Get translation tables for kept tokens\n",
    "bible_encoder, bible_decoder = get_translate_dicts(bible_kept_words) #get translation tables\n",
    "print(\"Encoder Table:\\n\",list(bible_encoder.items())[:10],\"\\nDecoder Table:\\n\", list(bible_decoder.items())[:10])\n",
    "\n",
    "#Get the frequency of each word after pruning\n",
    "bible_kept_freq = dict(zip(bible_kept_words,[bible_freq[value] for value in bible_kept_words]))"
   ]
  },
  {
   "cell_type": "code",
   "execution_count": null,
   "metadata": {},
   "outputs": [],
   "source": [
    "plot_log_char_freq(bible_char_freq, bible_kept_freq)\n"
   ]
  },
  {
   "cell_type": "markdown",
   "metadata": {},
   "source": [
    "# Tanakh"
   ]
  },
  {
   "cell_type": "code",
   "execution_count": 21,
   "metadata": {
    "scrolled": true
   },
   "outputs": [
    {
     "name": "stdout",
     "output_type": "stream",
     "text": [
      "Corpus length in words: 162580\n",
      "Unique words before ignoring: 6789\n",
      "Ignoring words with frequency < 5\n",
      "Unique words after ignoring: 2397\n",
      "Encoder Table:\n",
      " [('101', 0), ('1010', 1), ('1011', 2), ('1012', 3), ('1013', 4), ('1014', 5), ('1015', 6), ('1016', 7), ('1017', 8), ('1018', 9)] \n",
      "Decoder Table:\n",
      " [(0, '101'), (1, '1010'), (2, '1011'), (3, '1012'), (4, '1013'), (5, '1014'), (6, '1015'), (7, '1016'), (8, '1017'), (9, '1018')]\n"
     ]
    }
   ],
   "source": [
    "\n",
    "## First drop and replace some bad characters to make the analysis simpler and more effective\n",
    "tanakh.text = drop_chars(tanakh.text)\n",
    "#Get and count the frequency of each character after cleaning\n",
    "tanakh_char_freq = tanakh.get_char_freq()\n",
    "\n",
    "#Basically split into words (words are tokens here)\n",
    "tanakh_tokens = tanakh.tokenize() # tokens\n",
    "#Get and count the freq of each word/token PRE IGNORED WORDS\n",
    "tanakh_freq = tanakh.get_token_freq() # freq\n",
    "\n",
    "#Get ignorable words less than the global var min word frequency\n",
    "tanakh_ignored_words = get_ignorable_words(tanakh_freq) #ignored words less than frequency\n",
    "tanakh_kept_words = get_words(tanakh_tokens, tanakh_ignored_words) #keep words\n",
    "\n",
    "\n",
    "#Get translation tables for kept tokens\n",
    "tanakh_encoder, tanakh_decoder = get_translate_dicts(tanakh_kept_words) #get translation tables\n",
    "print(\"Encoder Table:\\n\",list(tanakh_encoder.items())[:10],\"\\nDecoder Table:\\n\", list(tanakh_decoder.items())[:10])\n",
    "\n",
    "#Get the frequency of each word after pruning\n",
    "tanakh_kept_freq = dict(zip(tanakh_kept_words,[tanakh_freq[value] for value in tanakh_kept_words]))"
   ]
  },
  {
   "cell_type": "code",
   "execution_count": null,
   "metadata": {},
   "outputs": [],
   "source": [
    "plot_log_char_freq(tanakh_char_freq, tanakh_kept_freq)\n"
   ]
  },
  {
   "cell_type": "markdown",
   "metadata": {},
   "source": [
    "# Quran"
   ]
  },
  {
   "cell_type": "code",
   "execution_count": 22,
   "metadata": {},
   "outputs": [
    {
     "name": "stdout",
     "output_type": "stream",
     "text": [
      "Corpus length in words: 139057\n",
      "Unique words before ignoring: 6962\n",
      "Ignoring words with frequency < 5\n",
      "Unique words after ignoring: 1981\n",
      "Encoder Table:\n",
      " [('a', 0), ('aad', 1), ('aaron', 2), ('abandon', 3), ('abide', 4), ('abiding', 5), ('able', 6), ('abode', 7), ('about', 8), ('above', 9)] \n",
      "Decoder Table:\n",
      " [(0, 'a'), (1, 'aad'), (2, 'aaron'), (3, 'abandon'), (4, 'abide'), (5, 'abiding'), (6, 'able'), (7, 'abode'), (8, 'about'), (9, 'above')]\n"
     ]
    }
   ],
   "source": [
    "\n",
    "## First drop and replace some bad characters to make the analysis simpler and more effective\n",
    "quran.text = drop_chars(quran.text)\n",
    "#Get and count the frequency of each character after cleaning\n",
    "quran_char_freq = quran.get_char_freq()\n",
    "\n",
    "#Basically split into words (words are tokens here)\n",
    "quran_tokens = quran.tokenize() # tokens\n",
    "#Get and count the freq of each word/token PRE IGNORED WORDS\n",
    "quran_freq = quran.get_token_freq() # freq\n",
    "\n",
    "#Get ignorable words less than the global var min word frequency\n",
    "quran_ignored_words = get_ignorable_words(quran_freq) #ignored words less than frequency\n",
    "quran_kept_words = get_words(quran_tokens, quran_ignored_words) #keep words\n",
    "\n",
    "\n",
    "#Get translation tables for kept tokens\n",
    "quran_encoder, quran_decoder = get_translate_dicts(quran_kept_words) #get translation tables\n",
    "print(\"Encoder Table:\\n\",list(quran_encoder.items())[:10],\"\\nDecoder Table:\\n\", list(quran_decoder.items())[:10])\n",
    "\n",
    "#Get the frequency of each word after pruning\n",
    "quran_kept_freq = dict(zip(quran_kept_words,[quran_freq[value] for value in quran_kept_words]))"
   ]
  },
  {
   "cell_type": "code",
   "execution_count": null,
   "metadata": {
    "scrolled": false
   },
   "outputs": [],
   "source": [
    "plot_log_char_freq(quran_char_freq, quran_kept_freq)\n"
   ]
  },
  {
   "cell_type": "markdown",
   "metadata": {},
   "source": [
    "#  Encode"
   ]
  },
  {
   "cell_type": "markdown",
   "metadata": {},
   "source": [
    "## Sutras"
   ]
  },
  {
   "cell_type": "code",
   "execution_count": 23,
   "metadata": {},
   "outputs": [
    {
     "name": "stdout",
     "output_type": "stream",
     "text": [
      "Ignored sequences: 236873\n",
      "Remaining sequences: 1081865\n"
     ]
    }
   ],
   "source": [
    "sutras_sentences, sutras_next_words = get_training_data(sutras_tokens, sutras_ignored_words)\n",
    "\n",
    "#Set up the full encoded training list\n",
    "sutras_encoded = []\n",
    "\n",
    "#Update the list with the encoded values\n",
    "for seq in sutras_sentences:\n",
    "    int_sutras_encode = []\n",
    "    for v in seq:\n",
    "        int_sutras_encode.append(sutras_encoder[v])\n",
    "    sutras_encoded.append(int_sutras_encode)\n"
   ]
  },
  {
   "cell_type": "code",
   "execution_count": 24,
   "metadata": {},
   "outputs": [
    {
     "name": "stdout",
     "output_type": "stream",
     "text": [
      "Ignored sequences: 30180\n",
      "Remaining sequences: 1288568\n",
      "Original Text in Words Length:  1318748\n",
      "After Ignored Words Text in Words Length:  1288568\n"
     ]
    }
   ],
   "source": [
    "sutras_t = get_training_data_one_list(sutras_tokens, sutras_ignored_words)\n",
    "print('Original Text in Words Length: ',len(sutras_tokens))\n",
    "print('After Ignored Words Text in Words Length: ',len(sutras_t))"
   ]
  },
  {
   "cell_type": "markdown",
   "metadata": {},
   "source": [
    "## Vedas"
   ]
  },
  {
   "cell_type": "code",
   "execution_count": null,
   "metadata": {},
   "outputs": [],
   "source": [
    "vedas_sentences, vedas_next_words = get_training_data(vedas_tokens, vedas_ignored_words)\n",
    "\n",
    "#Set up the full encoded training list\n",
    "vedas_encoded = []\n",
    "\n",
    "#Update the list with the encoded values\n",
    "for seq in vedas_sentences:\n",
    "    int_vedas_encode = []\n",
    "    for v in seq:\n",
    "        int_vedas_encode.append(vedas_encoder[v])\n",
    "    vedas_encoded.append(int_vedas_encode)\n"
   ]
  },
  {
   "cell_type": "code",
   "execution_count": 25,
   "metadata": {},
   "outputs": [
    {
     "name": "stdout",
     "output_type": "stream",
     "text": [
      "Ignored sequences: 23711\n",
      "Remaining sequences: 605418\n",
      "Original Text in Words Length:  629129\n",
      "After Ignored Words Text in Words Length:  605418\n"
     ]
    }
   ],
   "source": [
    "vedas_t = get_training_data_one_list(vedas_tokens, vedas_ignored_words)\n",
    "print('Original Text in Words Length: ',len(vedas_tokens))\n",
    "print('After Ignored Words Text in Words Length: ',len(vedas_t))"
   ]
  },
  {
   "cell_type": "markdown",
   "metadata": {},
   "source": [
    "## Bible"
   ]
  },
  {
   "cell_type": "code",
   "execution_count": null,
   "metadata": {},
   "outputs": [],
   "source": [
    "bible_sentences, bible_next_words = get_training_data(bible_tokens, bible_ignored_words)\n",
    "\n",
    "#Set up the full encoded training list\n",
    "bible_encoded = []\n",
    "\n",
    "#Update the list with the encoded values\n",
    "for seq in bible_sentences:\n",
    "    int_bible_encode = []\n",
    "    for v in seq:\n",
    "        int_bible_encode.append(bible_encoder[v])\n",
    "    bible_encoded.append(int_bible_encode)\n"
   ]
  },
  {
   "cell_type": "code",
   "execution_count": 26,
   "metadata": {},
   "outputs": [
    {
     "name": "stdout",
     "output_type": "stream",
     "text": [
      "Ignored sequences: 17366\n",
      "Remaining sequences: 806806\n",
      "Original Text in Words Length:  824172\n",
      "After Ignored Words Text in Words Length:  806806\n"
     ]
    }
   ],
   "source": [
    "bible_t = get_training_data_one_list(bible_tokens, bible_ignored_words)\n",
    "print('Original Text in Words Length: ',len(bible_tokens))\n",
    "print('After Ignored Words Text in Words Length: ',len(bible_t))"
   ]
  },
  {
   "cell_type": "markdown",
   "metadata": {},
   "source": [
    "## Tanakh"
   ]
  },
  {
   "cell_type": "code",
   "execution_count": null,
   "metadata": {},
   "outputs": [],
   "source": [
    "tanakh_sentences, tanakh_next_words = get_training_data(tanakh_tokens, tanakh_ignored_words)\n",
    "\n",
    "#Set up the full encoded training list\n",
    "tanakh_encoded = []\n",
    "\n",
    "#Update the list with the encoded values\n",
    "for seq in tanakh_sentences:\n",
    "    int_tanakh_encode = []\n",
    "    for v in seq:\n",
    "        int_tanakh_encode.append(tanakh_encoder[v])\n",
    "    tanakh_encoded.append(int_tanakh_encode)\n"
   ]
  },
  {
   "cell_type": "code",
   "execution_count": 27,
   "metadata": {},
   "outputs": [
    {
     "name": "stdout",
     "output_type": "stream",
     "text": [
      "Ignored sequences: 8047\n",
      "Remaining sequences: 154533\n",
      "Original Text in Words Length:  162580\n",
      "After Ignored Words Text in Words Length:  154533\n"
     ]
    }
   ],
   "source": [
    "tanakh_t = get_training_data_one_list(tanakh_tokens, tanakh_ignored_words)\n",
    "print('Original Text in Words Length: ',len(tanakh_tokens))\n",
    "print('After Ignored Words Text in Words Length: ',len(tanakh_t))"
   ]
  },
  {
   "cell_type": "markdown",
   "metadata": {},
   "source": [
    "## Quran"
   ]
  },
  {
   "cell_type": "code",
   "execution_count": null,
   "metadata": {},
   "outputs": [],
   "source": [
    "quran_sentences, quran_next_words = get_training_data(quran_tokens, quran_ignored_words)\n",
    "\n",
    "#Set up the full encoded training list\n",
    "quran_encoded = []\n",
    "\n",
    "#Update the list with the encoded values\n",
    "for seq in quran_sentences:\n",
    "    int_quran_encode = []\n",
    "    for v in seq:\n",
    "        int_quran_encode.append(quran_encoder[v])\n",
    "    quran_encoded.append(int_quran_encode)\n"
   ]
  },
  {
   "cell_type": "code",
   "execution_count": 28,
   "metadata": {},
   "outputs": [
    {
     "name": "stdout",
     "output_type": "stream",
     "text": [
      "Ignored sequences: 8380\n",
      "Remaining sequences: 130677\n",
      "Original Text in Words Length:  139057\n",
      "After Ignored Words Text in Words Length:  130677\n"
     ]
    }
   ],
   "source": [
    "quran_t = get_training_data_one_list(quran_tokens, quran_ignored_words)\n",
    "print('Original Text in Words Length: ',len(quran_tokens))\n",
    "print('After Ignored Words Text in Words Length: ',len(quran_t))"
   ]
  },
  {
   "cell_type": "code",
   "execution_count": 29,
   "metadata": {},
   "outputs": [],
   "source": [
    "quran_encoded_t = [quran_encoder[i] for i in quran_t]\n"
   ]
  },
  {
   "cell_type": "markdown",
   "metadata": {},
   "source": [
    "# Embedding"
   ]
  },
  {
   "cell_type": "code",
   "execution_count": 31,
   "metadata": {},
   "outputs": [],
   "source": [
    "from tensorflow.keras.models import Model\n",
    "from tensorflow.keras.layers import Input, Dense, Reshape, Concatenate\n",
    "from tensorflow.keras.layers import Embedding, dot, Dot\n",
    "from tensorflow.keras.preprocessing.sequence import skipgrams\n",
    "from tensorflow.keras.preprocessing import sequence\n",
    "\n",
    "import urllib\n",
    "import collections\n",
    "import os\n",
    "import zipfile\n",
    "\n",
    "import numpy as np\n"
   ]
  },
  {
   "cell_type": "markdown",
   "metadata": {},
   "source": [
    "# Quran Setup"
   ]
  },
  {
   "cell_type": "code",
   "execution_count": 57,
   "metadata": {},
   "outputs": [],
   "source": [
    "#The size of each vocabulary of each text\n",
    "vocab_size = len(quran_encoder)"
   ]
  },
  {
   "cell_type": "code",
   "execution_count": 69,
   "metadata": {
    "collapsed": true
   },
   "outputs": [],
   "source": [
    "window_size = 10\n",
    "vector_dim = 300\n",
    "epochs = 100000\n",
    "\n",
    "valid_size = 16     # Random set of words to evaluate similarity on.\n",
    "valid_window = 100  # Only pick dev samples in the head of the distribution.\n",
    "valid_examples = np.random.choice(valid_window, valid_size, replace=False)"
   ]
  },
  {
   "cell_type": "code",
   "execution_count": 59,
   "metadata": {},
   "outputs": [
    {
     "name": "stdout",
     "output_type": "stream",
     "text": [
      "[[1491, 453], [1832, 1739], [1898, 826], [1755, 421], [1740, 256], [1912, 1612], [1091, 968], [1740, 1667], [1579, 524], [1747, 86]] [0, 0, 1, 1, 1, 0, 0, 0, 0, 1]\n"
     ]
    }
   ],
   "source": [
    "sampling_table = sequence.make_sampling_table(vocab_size)\n",
    "couples, labels = skipgrams(quran_encoded_t, vocab_size, window_size=window_size, sampling_table=sampling_table)\n",
    "word_target, word_context = zip(*couples)\n",
    "word_target = np.array(word_target, dtype=\"int32\")\n",
    "word_context = np.array(word_context, dtype=\"int32\")\n",
    "\n",
    "print(couples[:10], labels[:10])"
   ]
  },
  {
   "cell_type": "markdown",
   "metadata": {},
   "source": [
    "# Quran Modeling"
   ]
  },
  {
   "cell_type": "code",
   "execution_count": 70,
   "metadata": {},
   "outputs": [],
   "source": [
    "import tensorflow.keras.backend as K\n",
    "# create some input variables\n",
    "input_target = Input((1,))\n",
    "input_context = Input((1,))\n",
    "\n",
    "embedding = Embedding(vocab_size, vector_dim, input_length=1, name='embedding')\n",
    "\n",
    "target = embedding(input_target)\n",
    "target = Reshape((vector_dim, 1))(target)\n",
    "context = embedding(input_context)\n",
    "context = Reshape((vector_dim, 1))(context)\n",
    "\n",
    "# setup a cosine similarity operation which will be output in a secondary model\n",
    "#similarity = merge([target, context], mode='cos', dot_axes=0)\n",
    "#similarity = Dot(axes = 1, normalize = True)([target, context])\n",
    "\n",
    "# now perform the dot product operation to get a similarity measure\n",
    "#dot_product = merge([target, context], mode='dot', dot_axes=1)\n",
    "dot_product = Dot(axes = 1)([target, context])\n",
    "dot_product = Reshape((1,))(dot_product)\n",
    "# add the sigmoid output layer\n",
    "output = Dense(1, activation='sigmoid')(dot_product)\n",
    "\n",
    "# create the primary training model\n",
    "model = Model(inputs=[input_target, input_context], outputs=output)\n",
    "model.compile(loss='binary_crossentropy', optimizer='rmsprop')"
   ]
  },
  {
   "cell_type": "code",
   "execution_count": null,
   "metadata": {
    "collapsed": true
   },
   "outputs": [],
   "source": []
  },
  {
   "cell_type": "code",
   "execution_count": 71,
   "metadata": {},
   "outputs": [
    {
     "name": "stdout",
     "output_type": "stream",
     "text": [
      "Iteration 0, loss=0.702477216720581\n",
      "Iteration 10000, loss=0.6650941371917725\n",
      "Iteration 20000, loss=0.6162722706794739\n",
      "Iteration 30000, loss=0.6776574850082397\n",
      "Iteration 40000, loss=0.7152571678161621\n",
      "Iteration 50000, loss=0.6500452756881714\n",
      "Iteration 60000, loss=0.7102140784263611\n",
      "Iteration 70000, loss=0.7358720898628235\n",
      "Iteration 80000, loss=0.690788745880127\n",
      "Iteration 90000, loss=0.8171643018722534\n"
     ]
    }
   ],
   "source": [
    "arr_1 = np.zeros((1,))\n",
    "arr_2 = np.zeros((1,))\n",
    "arr_3 = np.zeros((1,))\n",
    "for cnt in range(epochs):\n",
    "    idx = np.random.randint(0, len(labels)-1)\n",
    "    arr_1[0,] = word_target[idx]\n",
    "    arr_2[0,] = word_context[idx]\n",
    "    arr_3[0,] = labels[idx]\n",
    "    loss = model.train_on_batch([arr_1, arr_2], arr_3)\n",
    "    if cnt % 10000 == 0:\n",
    "        print(\"Iteration {}, loss={}\".format(cnt, loss))\n",
    "#     if cnt % 8 == 0:\n",
    "#         sim_cb.run_sim()"
   ]
  },
  {
   "cell_type": "code",
   "execution_count": 62,
   "metadata": {},
   "outputs": [
    {
     "data": {
      "text/plain": [
       "[<tensorflow.python.keras.engine.input_layer.InputLayer at 0x2800a937850>,\n",
       " <tensorflow.python.keras.engine.input_layer.InputLayer at 0x2800a937880>,\n",
       " <tensorflow.python.keras.layers.embeddings.Embedding at 0x2800a937f40>,\n",
       " <tensorflow.python.keras.layers.core.Reshape at 0x2800a91ed60>,\n",
       " <tensorflow.python.keras.layers.core.Reshape at 0x2800a937220>,\n",
       " <tensorflow.python.keras.layers.merge.Dot at 0x2800a937ee0>,\n",
       " <tensorflow.python.keras.layers.core.Reshape at 0x2800a9352e0>,\n",
       " <tensorflow.python.keras.layers.core.Dense at 0x2800a935490>]"
      ]
     },
     "execution_count": 62,
     "metadata": {},
     "output_type": "execute_result"
    }
   ],
   "source": [
    "model.layers"
   ]
  },
  {
   "cell_type": "code",
   "execution_count": 75,
   "metadata": {},
   "outputs": [
    {
     "name": "stdout",
     "output_type": "stream",
     "text": [
      "(1981, 300)\n"
     ]
    },
    {
     "data": {
      "text/html": [
       "<div>\n",
       "<style scoped>\n",
       "    .dataframe tbody tr th:only-of-type {\n",
       "        vertical-align: middle;\n",
       "    }\n",
       "\n",
       "    .dataframe tbody tr th {\n",
       "        vertical-align: top;\n",
       "    }\n",
       "\n",
       "    .dataframe thead th {\n",
       "        text-align: right;\n",
       "    }\n",
       "</style>\n",
       "<table border=\"1\" class=\"dataframe\">\n",
       "  <thead>\n",
       "    <tr style=\"text-align: right;\">\n",
       "      <th></th>\n",
       "      <th>0</th>\n",
       "      <th>1</th>\n",
       "      <th>2</th>\n",
       "      <th>3</th>\n",
       "      <th>4</th>\n",
       "      <th>5</th>\n",
       "      <th>6</th>\n",
       "      <th>7</th>\n",
       "      <th>8</th>\n",
       "      <th>9</th>\n",
       "      <th>...</th>\n",
       "      <th>290</th>\n",
       "      <th>291</th>\n",
       "      <th>292</th>\n",
       "      <th>293</th>\n",
       "      <th>294</th>\n",
       "      <th>295</th>\n",
       "      <th>296</th>\n",
       "      <th>297</th>\n",
       "      <th>298</th>\n",
       "      <th>299</th>\n",
       "    </tr>\n",
       "  </thead>\n",
       "  <tbody>\n",
       "    <tr>\n",
       "      <th>a</th>\n",
       "      <td>-0.045440</td>\n",
       "      <td>-0.026013</td>\n",
       "      <td>0.007654</td>\n",
       "      <td>-0.007973</td>\n",
       "      <td>0.044732</td>\n",
       "      <td>-0.006255</td>\n",
       "      <td>0.008879</td>\n",
       "      <td>0.013024</td>\n",
       "      <td>-0.009417</td>\n",
       "      <td>-0.006453</td>\n",
       "      <td>...</td>\n",
       "      <td>0.032584</td>\n",
       "      <td>-0.006197</td>\n",
       "      <td>0.003579</td>\n",
       "      <td>0.021110</td>\n",
       "      <td>-0.006904</td>\n",
       "      <td>-0.031211</td>\n",
       "      <td>-0.036980</td>\n",
       "      <td>-0.042266</td>\n",
       "      <td>-0.016543</td>\n",
       "      <td>0.049571</td>\n",
       "    </tr>\n",
       "    <tr>\n",
       "      <th>aad</th>\n",
       "      <td>0.013617</td>\n",
       "      <td>0.015056</td>\n",
       "      <td>-0.018383</td>\n",
       "      <td>0.000736</td>\n",
       "      <td>0.048581</td>\n",
       "      <td>-0.019784</td>\n",
       "      <td>-0.039316</td>\n",
       "      <td>-0.039542</td>\n",
       "      <td>0.067181</td>\n",
       "      <td>-0.009452</td>\n",
       "      <td>...</td>\n",
       "      <td>0.039012</td>\n",
       "      <td>0.060449</td>\n",
       "      <td>0.011087</td>\n",
       "      <td>-0.060688</td>\n",
       "      <td>-0.043350</td>\n",
       "      <td>-0.008990</td>\n",
       "      <td>-0.025304</td>\n",
       "      <td>-0.025456</td>\n",
       "      <td>-0.019287</td>\n",
       "      <td>-0.005289</td>\n",
       "    </tr>\n",
       "    <tr>\n",
       "      <th>aaron</th>\n",
       "      <td>0.056159</td>\n",
       "      <td>0.017947</td>\n",
       "      <td>0.035158</td>\n",
       "      <td>-0.039090</td>\n",
       "      <td>-0.019736</td>\n",
       "      <td>0.018471</td>\n",
       "      <td>0.014877</td>\n",
       "      <td>0.053986</td>\n",
       "      <td>-0.046747</td>\n",
       "      <td>-0.041504</td>\n",
       "      <td>...</td>\n",
       "      <td>0.025975</td>\n",
       "      <td>0.067471</td>\n",
       "      <td>0.005216</td>\n",
       "      <td>-0.055508</td>\n",
       "      <td>0.040220</td>\n",
       "      <td>-0.028374</td>\n",
       "      <td>0.047880</td>\n",
       "      <td>-0.058288</td>\n",
       "      <td>0.064695</td>\n",
       "      <td>0.013394</td>\n",
       "    </tr>\n",
       "    <tr>\n",
       "      <th>abandon</th>\n",
       "      <td>-0.064466</td>\n",
       "      <td>0.010181</td>\n",
       "      <td>0.030500</td>\n",
       "      <td>0.006692</td>\n",
       "      <td>0.015697</td>\n",
       "      <td>-0.007454</td>\n",
       "      <td>0.053093</td>\n",
       "      <td>0.004099</td>\n",
       "      <td>-0.014088</td>\n",
       "      <td>0.024240</td>\n",
       "      <td>...</td>\n",
       "      <td>-0.025527</td>\n",
       "      <td>0.052049</td>\n",
       "      <td>0.033741</td>\n",
       "      <td>0.047252</td>\n",
       "      <td>-0.035228</td>\n",
       "      <td>-0.027498</td>\n",
       "      <td>-0.020381</td>\n",
       "      <td>-0.029478</td>\n",
       "      <td>0.003847</td>\n",
       "      <td>-0.070075</td>\n",
       "    </tr>\n",
       "    <tr>\n",
       "      <th>abide</th>\n",
       "      <td>-0.047073</td>\n",
       "      <td>-0.040273</td>\n",
       "      <td>-0.007744</td>\n",
       "      <td>-0.020547</td>\n",
       "      <td>0.037795</td>\n",
       "      <td>0.028614</td>\n",
       "      <td>-0.012578</td>\n",
       "      <td>-0.005823</td>\n",
       "      <td>-0.027154</td>\n",
       "      <td>-0.020111</td>\n",
       "      <td>...</td>\n",
       "      <td>0.003519</td>\n",
       "      <td>-0.013574</td>\n",
       "      <td>-0.030284</td>\n",
       "      <td>-0.082902</td>\n",
       "      <td>0.057195</td>\n",
       "      <td>-0.009216</td>\n",
       "      <td>0.062273</td>\n",
       "      <td>-0.000249</td>\n",
       "      <td>-0.019753</td>\n",
       "      <td>0.006165</td>\n",
       "    </tr>\n",
       "  </tbody>\n",
       "</table>\n",
       "<p>5 rows × 300 columns</p>\n",
       "</div>"
      ],
      "text/plain": [
       "              0         1         2         3         4         5         6    \\\n",
       "a       -0.045440 -0.026013  0.007654 -0.007973  0.044732 -0.006255  0.008879   \n",
       "aad      0.013617  0.015056 -0.018383  0.000736  0.048581 -0.019784 -0.039316   \n",
       "aaron    0.056159  0.017947  0.035158 -0.039090 -0.019736  0.018471  0.014877   \n",
       "abandon -0.064466  0.010181  0.030500  0.006692  0.015697 -0.007454  0.053093   \n",
       "abide   -0.047073 -0.040273 -0.007744 -0.020547  0.037795  0.028614 -0.012578   \n",
       "\n",
       "              7         8         9    ...       290       291       292  \\\n",
       "a        0.013024 -0.009417 -0.006453  ...  0.032584 -0.006197  0.003579   \n",
       "aad     -0.039542  0.067181 -0.009452  ...  0.039012  0.060449  0.011087   \n",
       "aaron    0.053986 -0.046747 -0.041504  ...  0.025975  0.067471  0.005216   \n",
       "abandon  0.004099 -0.014088  0.024240  ... -0.025527  0.052049  0.033741   \n",
       "abide   -0.005823 -0.027154 -0.020111  ...  0.003519 -0.013574 -0.030284   \n",
       "\n",
       "              293       294       295       296       297       298       299  \n",
       "a        0.021110 -0.006904 -0.031211 -0.036980 -0.042266 -0.016543  0.049571  \n",
       "aad     -0.060688 -0.043350 -0.008990 -0.025304 -0.025456 -0.019287 -0.005289  \n",
       "aaron   -0.055508  0.040220 -0.028374  0.047880 -0.058288  0.064695  0.013394  \n",
       "abandon  0.047252 -0.035228 -0.027498 -0.020381 -0.029478  0.003847 -0.070075  \n",
       "abide   -0.082902  0.057195 -0.009216  0.062273 -0.000249 -0.019753  0.006165  \n",
       "\n",
       "[5 rows x 300 columns]"
      ]
     },
     "execution_count": 75,
     "metadata": {},
     "output_type": "execute_result"
    }
   ],
   "source": [
    "\n",
    "# merge_layer = model.layers[0]\n",
    "# word_model = merge_layer.layers[0]\n",
    "# word_embed_layer = word_model.layers[0]\n",
    "weights = model.layers[2].get_weights()[0][:]\n",
    "\n",
    "print(weights.shape)\n",
    "pd.DataFrame(weights, index=quran_decoder.values()).head()"
   ]
  },
  {
   "cell_type": "code",
   "execution_count": 76,
   "metadata": {},
   "outputs": [
    {
     "name": "stdout",
     "output_type": "stream",
     "text": [
      "(1981, 1981)\n"
     ]
    },
    {
     "data": {
      "text/plain": [
       "{'six': ['intercession', 'did', 'repents', 'joseph', 'utterly'],\n",
       " 'he': ['closed', 'disappointed', 'invisible', 'majesty', 'repents'],\n",
       " 'white': ['scream', 'nothing', 'scheme', 'adversity', 'being'],\n",
       " 'child': ['hereafter', 'proclaim', 'spring', 'sick', 'magicians']}"
      ]
     },
     "execution_count": 76,
     "metadata": {},
     "output_type": "execute_result"
    }
   ],
   "source": [
    "from sklearn.metrics.pairwise import euclidean_distances\n",
    "\n",
    "distance_matrix = euclidean_distances(weights)\n",
    "print(distance_matrix.shape)\n",
    "\n",
    "similar_words = {search_term: [quran_decoder[idx] for idx in distance_matrix[quran_encoder[search_term]-1].argsort()[1:6]+1] \n",
    "                   for search_term in ['six', 'he', 'white', 'child']}\n",
    "\n",
    "similar_words"
   ]
  },
  {
   "cell_type": "code",
   "execution_count": null,
   "metadata": {
    "collapsed": true
   },
   "outputs": [],
   "source": []
  },
  {
   "cell_type": "code",
   "execution_count": null,
   "metadata": {
    "collapsed": true
   },
   "outputs": [],
   "source": []
  }
 ],
 "metadata": {
  "kernelspec": {
   "display_name": "env",
   "language": "python",
   "name": "env"
  }
 },
 "nbformat": 4,
 "nbformat_minor": 2
}
