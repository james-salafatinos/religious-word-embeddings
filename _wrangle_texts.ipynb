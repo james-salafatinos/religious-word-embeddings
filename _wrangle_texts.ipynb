{
 "cells": [
  {
   "cell_type": "markdown",
   "metadata": {},
   "source": [
    "# Sutras"
   ]
  },
  {
   "cell_type": "code",
   "execution_count": 18,
   "metadata": {},
   "outputs": [],
   "source": [
    "fp = r'.\\datasets\\Sutras'\n"
   ]
  },
  {
   "cell_type": "code",
   "execution_count": 35,
   "metadata": {},
   "outputs": [],
   "source": [
    "import os\n",
    "\n",
    "s = ''\n",
    "#w = open('Sutras_full.txt', 'a+', encoding = 'utf-8')\n",
    "for fp_end in os.listdir(r'.\\datasets\\Sutras'):\n",
    "    with open(fp + '\\\\'+ fp_end, encoding = 'utf-8') as f:\n",
    "        content = f.read()\n",
    "        s += content\n",
    "\n",
    "import codecs\n",
    "with codecs.open('Sutras_full.txt', 'w', encoding = 'utf-8') as w:\n",
    "    w.write(s)"
   ]
  },
  {
   "cell_type": "markdown",
   "metadata": {},
   "source": [
    "# Tanakh\n"
   ]
  },
  {
   "cell_type": "code",
   "execution_count": 46,
   "metadata": {},
   "outputs": [],
   "source": [
    "\n",
    "fp = r'.\\datasets\\Tanakh'\n",
    "\n",
    "import os\n",
    "\n",
    "s = ''\n",
    "#w = open('Sutras_full.txt', 'a+', encoding = 'utf-8')\n",
    "for fp_end in os.listdir(r'.\\datasets\\Tanakh'):\n",
    "    with open(fp + '\\\\'+ fp_end, encoding = 'utf-8') as f:\n",
    "        content = f.read()\n",
    "        s += content\n",
    "\n",
    "import codecs\n",
    "with codecs.open('Pentateuch_full.txt', 'w', encoding = 'utf-8') as w:\n",
    "    w.write(s)"
   ]
  },
  {
   "cell_type": "markdown",
   "metadata": {},
   "source": [
    "# Get the gz religious texts from sacred-text download"
   ]
  },
  {
   "cell_type": "code",
   "execution_count": null,
   "metadata": {
    "collapsed": true,
    "jupyter": {
     "outputs_hidden": true
    }
   },
   "outputs": [],
   "source": [
    "from bs4 import BeautifulSoup\n",
    "import requests \n",
    "url = 'https://www.sacred-texts.com/download.htm'\n",
    "z = requests.get(url).text\n",
    "soup = BeautifulSoup(z, 'html.parser')\n",
    "\n",
    "list_of_potential_hrefs = soup.findAll('ol')\n",
    "\n",
    "urls = []\n",
    "for i in list_of_potential_hrefs[0].findAll('a'):\n",
    "    urls.append(i.get('href'))"
   ]
  },
  {
   "cell_type": "code",
   "execution_count": null,
   "metadata": {
    "collapsed": true,
    "jupyter": {
     "outputs_hidden": true
    }
   },
   "outputs": [],
   "source": [
    "# for target_path in urls:\n",
    "#     response = requests.get('https://www.sacred-texts.com/'+target_path, stream=True)\n",
    "#     if response.status_code == 200:\n",
    "#         with open(target_path.replace('/','_'), 'wb') as f:\n",
    "#             f.write(response.raw.read())"
   ]
  },
  {
   "cell_type": "code",
   "execution_count": null,
   "metadata": {
    "collapsed": true,
    "jupyter": {
     "outputs_hidden": true
    }
   },
   "outputs": [],
   "source": [
    "\n",
    "import gzip\n",
    "import io\n",
    "with gzip.open(r\"C:\\Users\\james\\Documents\\word_embeddings\\datasets\\religious_texts\" +'\\\\'+urls[0].replace('/','_'), 'rb', compresslevel=9) as f:\n",
    "    file_content = f.read()"
   ]
  },
  {
   "cell_type": "code",
   "execution_count": null,
   "metadata": {
    "collapsed": true,
    "jupyter": {
     "outputs_hidden": true
    }
   },
   "outputs": [],
   "source": [
    "def gunzip_bytes_obj(bytes_obj):\n",
    "    in_ = io.BytesIO()\n",
    "    in_.write(bytes_obj)\n",
    "    in_.seek(0)\n",
    "    with gzip.GzipFile(fileobj=in_, mode='rb') as fo:\n",
    "        gunzipped_bytes_obj = fo.read()\n",
    "\n",
    "    return gunzipped_bytes_obj.decode()\n",
    "\n",
    "gunzip_bytes_obj(file_content)"
   ]
  }
 ],
 "metadata": {
  "kernelspec": {
   "display_name": "Python 3",
   "language": "python",
   "name": "python3"
  },
  "language_info": {
   "codemirror_mode": {
    "name": "ipython",
    "version": 3
   },
   "file_extension": ".py",
   "mimetype": "text/x-python",
   "name": "python",
   "nbconvert_exporter": "python",
   "pygments_lexer": "ipython3",
   "version": "3.8.1"
  }
 },
 "nbformat": 4,
 "nbformat_minor": 4
}
